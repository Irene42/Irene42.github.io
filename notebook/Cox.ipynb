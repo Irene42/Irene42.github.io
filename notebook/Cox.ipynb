{
 "cells": [
  {
   "cell_type": "markdown",
   "metadata": {},
   "source": [
    "### Irène Marchand"
   ]
  },
  {
   "cell_type": "markdown",
   "metadata": {},
   "source": [
    "# Personnal project: The Cox model"
   ]
  },
  {
   "cell_type": "markdown",
   "metadata": {},
   "source": [
    " Since survival analysis is a multi-disciplinary field, it is impossible to be exhaustive. Consequently, I chose to talk about the main concepts of survival analysis and to deepen the Cox model."
   ]
  },
  {
   "cell_type": "markdown",
   "metadata": {},
   "source": [
    "$\\textbf{Sommary}:$  \n",
    "\n",
    "$\\textbf{I- Introduction:}$ \n",
    "\n",
    "1-Introduction  \n",
    "2-Basics of survival analysis  \n",
    "......2.1-The survival function S  \n",
    "......2.2-The cumulative distribution function  \n",
    "......2.3-The probability density  \n",
    "......2.4-The hazard rate and the cumulative hazard rate  \n",
    "......2.5-Type of censoring  \n",
    "\n",
    "$\\textbf{II- The non parametric estimation}$  \n",
    "\n",
    "1-The Kaplan-Meier estimator  \n",
    "2-The Nelson-Aaden estimator  \n",
    "3-Other estimators  \n",
    "......3.1-The Breslow estimator  \n",
    "......3.2-The Harrington-Fleming estimator  \n",
    "4-The acturial method   \n",
    "5-Standard Errors and Confidence Interval  \n",
    "\n",
    "$\\textbf{III- Simulation on breast cancer data}$ \n",
    "1-Exploring the data  \n",
    "......1.1-Censored data  \n",
    "2-The Kaplan-Meier estimator  \n",
    "......2.1-The cumulative hazard function  \n",
    "3-Observe the impact of the variables  \n",
    "4-Fitting a distribution  \n",
    "\n",
    "$\\textbf{IV- Semi-parametric model: The Cox proportional hazard model}$  \n",
    "1-Proportional hazard model  \n",
    "2-Definition of the Cox model  \n",
    "3-Interpretation of the coefficients  \n",
    "4-Estimation and test  \n",
    "......4.1-Cox partial likelihodd  \n",
    "......4.2-Tests  \n",
    ".........4.2.1-The Wals test  \n",
    ".........4.2.2-The likelihood test  \n",
    ".........4.2.3-The score test  \n",
    "\n",
    "$\\textbf{V- Compute the Cox model in R: simulation on lung cancer data}$  \n",
    "1-Exploring the data  \n",
    "2-The Coxph function  \n",
    "3-Multivariate Cox regression analysis  \n",
    "4-Visualizing the estimated distribution of survival times  \n",
    "\n",
    "$\\textbf{VI- The parametrics distributions}$  \n",
    "1-The Exponential distribution  \n",
    "2-The Weibull distribution  \n",
    "3-The Gamma distribution  \n",
    "4-Other usual distributions in survival analysis  "
   ]
  },
  {
   "cell_type": "markdown",
   "metadata": {},
   "source": [
    "## I-Introduction"
   ]
  },
  {
   "cell_type": "markdown",
   "metadata": {},
   "source": [
    "## 1-Introduction"
   ]
  },
  {
   "cell_type": "markdown",
   "metadata": {},
   "source": [
    "The term $\\textbf{survival time}$ refers to the time elapsed until the occurrence of a specific event.  \n",
    "The event studied (commonly called death) is the transition between two states (commonly called living and deaths).  \n",
    "However, the terminal event is not necessarily death: it can be the appearance of a disease (for example, the time before relapse or rejection of a transplantation), healing (time between diagnosis and recovery), the failure of a machine.  \n",
    "The analysis of the survival data is the study of the delay of the occurrence of this event.  \n",
    "In the biomedical field, these durations are studied under the form of cohort surveys (follow-up of patients over time) or \n",
    "therapeutic trials (test the effectiveness of a drug).  \n",
    "Afterwards, we try to estimate the distribution of survival times (survival function), to compare the survival functions of several groups or in order to analyze how explanatory variables modify the functions of survival."
   ]
  },
  {
   "cell_type": "markdown",
   "metadata": {},
   "source": [
    "## 2-Basics of survival analysis:"
   ]
  },
  {
   "cell_type": "markdown",
   "metadata": {},
   "source": [
    "## 2.1-The survival function S:"
   ]
  },
  {
   "cell_type": "markdown",
   "metadata": {},
   "source": [
    "The survival function gives the probability that a subject will survive beyond a certain time. This function is also called reliability function.  \n",
    "Let X be a random variable and F (t) be the distribution function on $[0;\\infty]$. The survival function is then defined as follows:\n",
    "$$S(t) = P(\\{X > t\\}) = \\int_t^{\\infty} f(u)\\,du = 1-F(t)$$\n",
    "Survival function decreases monotonically, $\\forall t<u, S(u) \\ge S(t)$\n",
    "\n",
    "Here are some graphs representing a survival function:"
   ]
  },
  {
   "attachments": {
    "survival.png": {
     "image/png": "[encoded data removed]"
    }
   },
   "cell_type": "markdown",
   "metadata": {},
   "source": [
    "![survival.png](attachment:survival.png)"
   ]
  },
  {
   "cell_type": "markdown",
   "metadata": {},
   "source": [
    "## 2.2-Cumulative distribution function"
   ]
  },
  {
   "cell_type": "markdown",
   "metadata": {},
   "source": [
    "In probability and statistics, the cumulative distribution function (CDF) of a real random variable X, evaluated at t, is the probability that X will take a value less than or equal to t.\n",
    "$$F_{X}(t)=\\mathbb{P}(X\\le t)=1-S(t)$$\n",
    "Below is the cumulative distribution function of the normal centered reduced distribution:"
   ]
  },
  {
   "attachments": {
    "repartition.png": {
     "image/png": "[encoded data removed]"
    }
   },
   "cell_type": "markdown",
   "metadata": {},
   "source": [
    "![repartition.png](attachment:repartition.png)"
   ]
  },
  {
   "cell_type": "markdown",
   "metadata": {},
   "source": [
    "## 2.3-Probability density:"
   ]
  },
  {
   "cell_type": "markdown",
   "metadata": {},
   "source": [
    "This is the function $f(t)>0$ such that for all $t>0$  \n",
    "$$\\mathbb{P}(a \\le X \\le b) = \\int_a^b f_X(t) $$\n",
    "Hence, if $F_X$ is the cumulative distribution function of $X$, and that it admits a derivative at the point t then:\n",
    "$$f(t)=\\lim\\limits_{h \\rightarrow 0} \\dfrac{\\mathbb{P}(t\\le X \\ge t+h)}{h}=F'(t)=-S'(t)$$\n",
    "\n",
    "For $t>0$, the probability density represents the probability of dying in a small interval of time after the instant t."
   ]
  },
  {
   "cell_type": "markdown",
   "metadata": {},
   "source": [
    "## 2.4-The hazard rate and the cumulative hazard rate:"
   ]
  },
  {
   "cell_type": "markdown",
   "metadata": {},
   "source": [
    "The $\\textbf{hazard rate}$, $\\lambda(t)$, is constructed as the probability that the event occurs in the time interval t knowing that the event has not occurred before, divided by the width of the time interval: $\\Delta(t)$\n",
    "\n",
    "$$\\lambda(t)=\\lim\\limits_{\\Delta(t) \\rightarrow 0} \\dfrac{\\mathbb{P}(t\\le T<t+\\Delta(t)|T\\ge t)}{\\Delta(t)}$$\n",
    "\n",
    "With the conditional probability theorem: $\\lambda(t)=\\dfrac{f(t)}{S(t)}$\n",
    "\n",
    "The $\\textbf{cumulative hazard rate}$ can be defined as: $\\Lambda(t)= \\displaystyle \\int_{0}^{t} \\lambda(s) \\, \\mathrm{d}s$\n",
    "\n",
    "Thus, we get the following equality between the cumulative hazard rate $\\Lambda(t)$ and the survival function $S(t)$:\n",
    "$$\\lambda(t)=\\dfrac{f(t)}{S(t)}=\\dfrac{-d}{dt}\\log(S(t))=-\\log S'(t)$$\n",
    "It implies, $$S(t)=\\exp(- \\displaystyle \\int_{0}^{t} \\lambda(s) \\, \\mathrm{d}s)=\\exp(-\\Lambda(t))$$  \n",
    "\n",
    "The hazard function provides a measure of the likelihood of a failure depending on the duration of survival.  An increasing hazard rate could be an effect of natural aging or wear while a decreasing hazard could mirror for example the recovery after a\n",
    "transplant."
   ]
  },
  {
   "cell_type": "markdown",
   "metadata": {},
   "source": [
    "## 2.5-Censoring:"
   ]
  },
  {
   "cell_type": "markdown",
   "metadata": {},
   "source": [
    "Generally we call, censoring, a problem of missing data. Censoring is very common in survival analysis. There are several types of censoring:\n",
    "\n",
    "$\\textbf{Left censoring}$: An observation is known to be below a certain value but it is unknown by how much.  \n",
    "$\\textbf{Right censoring}$:An observation is known to be above a certain value but it is unknown by how much.  \n",
    "$\\textbf{Interval censoring}$:The event occurred between two measurement intervals but we do not know when in the meantime.  \n",
    "$\\textbf{Type 1 censoring}$:The study stops when a certain time (previously agreed) has elapsed.  \n",
    "$\\textbf{Type 2 censoring}$:The study ends when a fixed number of events has occured."
   ]
  },
  {
   "cell_type": "markdown",
   "metadata": {},
   "source": [
    "# II.Nonparametric estimation:"
   ]
  },
  {
   "cell_type": "markdown",
   "metadata": {},
   "source": [
    "## 1- The Kaplan-Meier estimator:"
   ]
  },
  {
   "cell_type": "markdown",
   "metadata": {},
   "source": [
    "The Kaplan-Meier estimator estimates the survival function based on lifetime data.  \n",
    "The idea behind the Kaplan-Meier estimator is to divide the observation time of the study into an interval sum to obtain a separate interval for each death or censoring.\n",
    "\n",
    "\n",
    "The Kaplan-Meier estimation curve for the survival function makes it possible to approach the real survival function.  \n",
    "The advantage of the Kaplan-Meier curve is that this method takes into account certain types of censored data (in particular data censored by the right).  \n",
    "If no truncation or censoring occurs, the Kaplan-Meier curve is equivalent to the survival function.  \n",
    "For example, in medical statistics, a typical application might involve grouping patients into categories: those with an A gene and those with a B gene. On the graph, patients with a B gene die faster than patients with gene A. After two years, 80% of patients with gene A survive but less than half of patients with gene B survive.  \n",
    "\n",
    "The Kaplan-Meier estimator requires to have at least two data for each subject studied: The status at the last observation and the delay before the studied event appears.  \n",
    "However, if the survival functions of the two groups are to be compared, a third data is required, the group assignment of each subject.  \n",
    "\n",
    "$\\textbf{Some formulas for the Kaplan-Meier estimator:}$\n",
    "\n",
    "\n",
    "We note $S(t)$ the probability that a subject has a lifetime greater than t.  \n",
    "For a size N sample, the durations observed until each death of the subjects of the sample N are:\n",
    "$$t_{1}\\le t_{2}\\le t_{3}\\le ... \\le t_{N}$$  \n",
    "\n",
    "Let $d_{i}$ denote the number of events \"deaths\" at time $t_{i}$ and let $n_{i}$ be the number of subjects called *at risk* before time $t_{i}$.  \n",
    "\n",
    "\n",
    "For instance, we study **100** tractors. It is assumed that the tractor number **1** fail on day number **3**, machines **2** and **3** fail on day **10** and machine **4** disappears from study (censored data) on day **9**. Then we will have the following table."
   ]
  },
  {
   "attachments": {
    "table.png": {
     "image/png": "[encoded data removed]"
    }
   },
   "cell_type": "markdown",
   "metadata": {},
   "source": [
    "![table.png](attachment:table.png)"
   ]
  },
  {
   "cell_type": "markdown",
   "metadata": {},
   "source": [
    "The Kaplan-Meier estimator is the non-parametric maximum likelihood estimate of $S(t)$. It is the following product:\n",
    "$$\\hat{S}(t)=\\prod_{t_{i}<t}^n \\dfrac{n_{i}-d_{i}}{n_{i}}$$  \n",
    "\n",
    "-When there is no censoring,$n_{i}$ is the number of survivors before time $t_{i}$  \n",
    "-When censorship exists,$n_{i}$ is the number of survivors minus the number of censored cases (only survivors continue to be in the study)  \n",
    "\n",
    "The Kaplan-Meier estimator is a statistic and some estimators are used to approximate its variance. The most commonly used estimator is **the Greenwood formula**:  \n",
    "\n",
    "$$\\hat{V}ar(\\hat{S}(t))=\\hat{S}(t)^{2} \\sum_{t_{i}<t} \\dfrac{d_{i}}{n_{i}(n_{i}-d_{i})}$$"
   ]
  },
  {
   "cell_type": "markdown",
   "metadata": {},
   "source": [
    "## 2-The Nelson-Aaden estimator"
   ]
  },
  {
   "cell_type": "markdown",
   "metadata": {},
   "source": [
    "The Nelson-Aaden estimator is a non-parametric estimator of the cumulative risk rate function adapted to censored or missing data.  \n",
    "It allows to estimate the cumulated number of studied events (deaths, failures, etc ...)  \n",
    "The estimator is given by the following formula:  \n",
    "$$\\hat{\\Lambda}(t)=\\sum_{t_{i}\\le t} \\dfrac{n_{i}}{d_{i}}$$\n",
    "\n",
    "$d_{i}$: Number of events on $t_{i}$\n",
    "\n",
    "$n_{i}$: Total individuals at risk at $t_{i}$\n",
    "  \n",
    "This expression is estimating the hazard at each distinct time of death $t_{i}$ as the ratio of the number of deaths to the number exposed.  \n",
    "The cumulative hazard up to time t is simply the sum of the hazards at all death times up to t, and has a nice interpretation as the expected number of deaths in $[0, t]$ per unit at risk.  \n",
    "The variance of $\\hat{\\Lambda}$ can be approximated by $Var(\\log(\\hat{\\Lambda}(t))$, which is obtained by the Greenwood’s formula.  \n",
    "Breslow suggested in 1972 estimating the survival function as: $\\hat{S}(t)=\\exp(-\\hat{\\Lambda}(t))$"
   ]
  },
  {
   "cell_type": "markdown",
   "metadata": {},
   "source": [
    "## 3-Other estimators:"
   ]
  },
  {
   "cell_type": "markdown",
   "metadata": {},
   "source": [
    "## 3.1 The Breslow's estimator:"
   ]
  },
  {
   "cell_type": "markdown",
   "metadata": {},
   "source": [
    "In 1972 Breslow developed a maximum likelihood estimator for the hazard function. This estimator has been widely used in the extension of the Cox model.  \n",
    "\n",
    "This cumulative hazard estimator was obtained from the Kaplan-Meier estimator using the following relation: $S(t)=\\exp(-\\Lambda(t))$  \n",
    "$$\\hat{\\Lambda_{2}}(t)=-\\log(\\hat{S}(t)=\\sum_{t_{i}\\le t} \\log \\left(1-\\dfrac{d_{i}}{Y_{i}} \\right)$$\n",
    "\n",
    "$d_{i}$: Number of events on $t_{i}$\n",
    "\n",
    "$n_{i}$: Total individuals at risk at $t_{i}$\n",
    "\n",
    "The variance of this estimator is:\n",
    "$$\\hat{Var}(\\hat{\\Lambda_{2}}(t))=\\sum_{t_{i}\\le t} \\dfrac{d_{i}}{n_{i}(n_{i}-d_{i})}$$"
   ]
  },
  {
   "cell_type": "markdown",
   "metadata": {},
   "source": [
    "## 3.2 The Harrington-Fleming estimator:"
   ]
  },
  {
   "cell_type": "markdown",
   "metadata": {},
   "source": [
    "Fleming and Harrington gived an estimator nearer to the Kaplan-Meier estimator and smaller than the Breslow estimator for tied data.  \n",
    "\n",
    "From the relation $S(t)=exp(-\\Lambda(t))$ and the Nelson-Aalen estimator we get:\n",
    "$$\\hat{S_{2}}(t)=\\exp(-\\hat{\\Lambda}(t))=\\prod_{i:t_{i}<t}^n \\exp \\left(\\dfrac{-d_{i}}{n_{i}} \\right)$$\n",
    "\n",
    "By applying a limited development, we find the Kaplan-Meier estimator."
   ]
  },
  {
   "cell_type": "markdown",
   "metadata": {},
   "source": [
    "## 4-The actuarial method:"
   ]
  },
  {
   "cell_type": "markdown",
   "metadata": {},
   "source": [
    "The actuarial method is based on the same  principle as the estimator of Kaplan-Meier. The difference is that the conditional probabilities are estimated on intervals chosen by the user and not determined by events.  \n",
    "\n",
    "We consider k time intervals: $[0;t_{1}], [t_{1};t_{2}], ..., [t_{k-1}]$  \n",
    "$d_{i}$: number of death in the $i^{th}$ interval  \n",
    "$n_{i-1}$: number of subjects alive at time $t_{i-1}$  \n",
    "$c_{i}$: number of subjects censored in the $i^{th}$ interval  \n",
    "$r_{i}$: number of subects at risk in the $i^{th}$ interval\n",
    "\n",
    "We assume that the censorings are uniformly distributed in each interval.  \n",
    "The probability of dying in the time interval $[t_{i-1};t_{i}]$ knowing that one was alive at the time $t_{i-1}$ is estimated by $\\dfrac{d_{i}}{r_{i}} $  \n",
    "Thus, the estimator is:  \n",
    "$$\\hat{S_{3}}(t)=\\prod_{i:t_{i}<t}^n \\left(1-\\dfrac{d_{i}}{n_{i}} \\right)$$\n",
    "\n",
    "The Greenwood's formula allows to get the estimation of the variance:  \n",
    "$$\\hat{Var}(\\hat{S_{3}})=\\hat{S_{3}}(t)^{2} \\sum_{t_{i}<t} \\dfrac{d_{i}}{r_{i}(r_{i}-d_{i})}$$"
   ]
  },
  {
   "cell_type": "markdown",
   "metadata": {},
   "source": [
    "## 5-Standard Errors and Confidence Interval: "
   ]
  },
  {
   "cell_type": "markdown",
   "metadata": {},
   "source": [
    "The methods previously seen are estimates and should be interpreted as such.  \n",
    "There are formulas to produce standard errors and confidence interval estimations of the survival probabilities.  \n",
    "The most known formula to estimate the standar error (s.e) uses the Greenwood formula (previously seen) and is as follow:  \n",
    "$$S_{e}(S(t))=\\hat{S}(t) \\sqrt{ \\sum_{t_{i}<t} \\dfrac{d_{i}}{n_{i}(n_{i}-d_{i})}}$$\n",
    "\n",
    "Thus, the quantity $1.96 \\times S_{e}(S(t))$ corresponds to the margin of error and is used to calculate the 95% confidence intervals: $S(t) \\pm 1.96 \\times S_{e}(S(t)) $"
   ]
  },
  {
   "cell_type": "markdown",
   "metadata": {},
   "source": [
    "# III-Simulation on breast cancer data:\n",
    "\n",
    "We will simulate a survival study to illustrate the interest of the mathematical tools mentioned above.  \n",
    "We will do this survival analyse in **R** with $100$ observations from the German breast cancer study (**gbcs**). The main purpose will be to explore the data and find what influence breast cancer."
   ]
  },
  {
   "cell_type": "markdown",
   "metadata": {},
   "source": [
    "First, we will install the *survival* package, it contains the core survival analysis routines, including definition of Surv objects, Kaplan-Meier and Aalen-Johansen (multi-state) curves, Cox models, and parametric accelerated failure time models.\n",
    "\n"
   ]
  },
  {
   "cell_type": "markdown",
   "metadata": {},
   "source": [
    "## 1-Exploring the data:"
   ]
  },
  {
   "cell_type": "code",
   "execution_count": 19,
   "metadata": {},
   "outputs": [
    {
     "name": "stderr",
     "output_type": "stream",
     "text": [
      "Warning message:\n",
      "\"unable to access index for repository http://www.stats.ox.ac.uk/pub/RWin/bin/windows/contrib/3.5:\n",
      "  impossible d'ouvrir l'URL 'http://www.stats.ox.ac.uk/pub/RWin/bin/windows/contrib/3.5/PACKAGES'\"Warning message:\n",
      "\"package 'survival' is in use and will not be installed\"Warning message:\n",
      "\"dependency 'ActuDistns' is not available\"Warning message:\n",
      "\"unable to access index for repository http://www.stats.ox.ac.uk/pub/RWin/bin/windows/contrib/3.5:\n",
      "  impossible d'ouvrir l'URL 'http://www.stats.ox.ac.uk/pub/RWin/bin/windows/contrib/3.5/PACKAGES'\""
     ]
    },
    {
     "name": "stdout",
     "output_type": "stream",
     "text": [
      "package 'flexsurv' successfully unpacked and MD5 sums checked\n",
      "\n",
      "The downloaded binary packages are in\n",
      "\tC:\\Users\\mulot\\AppData\\Local\\Temp\\Rtmpiuhc9Y\\downloaded_packages\n"
     ]
    }
   ],
   "source": [
    "\n",
    "install.packages(\"survival\", dependencies=TRUE)\n",
    "install.packages(\"flexsurv\", dependencies=TRUE)\n"
   ]
  },
  {
   "cell_type": "markdown",
   "metadata": {},
   "source": [
    "Then we will explore the data with the *summary* function"
   ]
  },
  {
   "cell_type": "code",
   "execution_count": 62,
   "metadata": {},
   "outputs": [
    {
     "data": {
      "text/plain": [
       "       id              age          menopause       hormone    \n",
       " Min.   :  1.00   Min.   :27.00   Min.   :1.00   Min.   :1.00  \n",
       " 1st Qu.: 25.75   1st Qu.:47.00   1st Qu.:1.00   1st Qu.:1.00  \n",
       " Median : 50.50   Median :54.00   Median :2.00   Median :1.00  \n",
       " Mean   : 50.50   Mean   :53.86   Mean   :1.63   Mean   :1.42  \n",
       " 3rd Qu.: 75.25   3rd Qu.:62.00   3rd Qu.:2.00   3rd Qu.:2.00  \n",
       " Max.   :100.00   Max.   :74.00   Max.   :2.00   Max.   :2.00  \n",
       "   prog_recp        estrg_recp       rectime          censrec    \n",
       " Min.   :  0.00   Min.   :  0.0   Min.   :  46.0   Min.   :0.00  \n",
       " 1st Qu.:  6.00   1st Qu.:  9.0   1st Qu.: 560.2   1st Qu.:0.00  \n",
       " Median : 31.50   Median : 32.0   Median :1304.5   Median :1.00  \n",
       " Mean   : 89.97   Mean   : 77.1   Mean   :1324.2   Mean   :0.58  \n",
       " 3rd Qu.:117.50   3rd Qu.: 94.5   3rd Qu.:1989.2   3rd Qu.:1.00  \n",
       " Max.   :739.00   Max.   :749.0   Max.   :2563.0   Max.   :1.00  "
      ]
     },
     "metadata": {},
     "output_type": "display_data"
    }
   ],
   "source": [
    "gbcs <- read.csv(\"https://ryanwomack.com/data/gbcs.csv\");\n",
    "summary(gbcs)\n"
   ]
  },
  {
   "cell_type": "markdown",
   "metadata": {},
   "source": [
    "**Captions**:  \n",
    "**Id**: Referencing number  \n",
    "**Age**: Age of the patient  \n",
    "**Menopause**: Is the patient postmenopausal  \n",
    "**Hormone**: Dichotomic variable for hormone therapy  \n",
    "**Prog_recp**: Number of progesteron receptors  \n",
    "**Estrg_recp**: Number of estrogen recptors  \n",
    "**Rectime**:Recurrence time until breast cancer recurred  \n",
    "**Censrec**:Censoring  \n",
    "\n",
    "As often we can make a correlation matrix to see if there is a significant link between the variables"
   ]
  },
  {
   "cell_type": "code",
   "execution_count": 13,
   "metadata": {},
   "outputs": [
    {
     "data": {
      "text/html": [
       "<table>\n",
       "<thead><tr><th></th><th scope=col>id</th><th scope=col>age</th><th scope=col>menopause</th><th scope=col>hormone</th><th scope=col>prog_recp</th><th scope=col>estrg_recp</th><th scope=col>rectime</th><th scope=col>censrec</th></tr></thead>\n",
       "<tbody>\n",
       "\t<tr><th scope=row>id</th><td> 1.000000000</td><td>0.02323118  </td><td> 0.07067689 </td><td>-0.05966129 </td><td> 0.04049627 </td><td> 0.1748444  </td><td>-0.005059552</td><td>-0.08001632 </td></tr>\n",
       "\t<tr><th scope=row>age</th><td> 0.023231176</td><td>1.00000000  </td><td> 0.79581730 </td><td> 0.25719905 </td><td> 0.04123542 </td><td> 0.3217537  </td><td> 0.021608614</td><td> 0.02838536 </td></tr>\n",
       "\t<tr><th scope=row>menopause</th><td> 0.070676890</td><td>0.79581730  </td><td> 1.00000000 </td><td> 0.14855712 </td><td>-0.06588442 </td><td> 0.2363330  </td><td>-0.103430881</td><td> 0.14519990 </td></tr>\n",
       "\t<tr><th scope=row>hormone</th><td>-0.059661288</td><td>0.25719905  </td><td> 0.14855712 </td><td> 1.00000000 </td><td> 0.06053413 </td><td> 0.1534863  </td><td> 0.163525476</td><td>-0.22003284 </td></tr>\n",
       "\t<tr><th scope=row>prog_recp</th><td> 0.040496275</td><td>0.04123542  </td><td>-0.06588442 </td><td> 0.06053413 </td><td> 1.00000000 </td><td> 0.4255851  </td><td> 0.286073120</td><td>-0.28628077 </td></tr>\n",
       "\t<tr><th scope=row>estrg_recp</th><td> 0.174844441</td><td>0.32175365  </td><td> 0.23633297 </td><td> 0.15348627 </td><td> 0.42558514 </td><td> 1.0000000  </td><td> 0.164942607</td><td>-0.19650683 </td></tr>\n",
       "\t<tr><th scope=row>rectime</th><td>-0.005059552</td><td>0.02160861  </td><td>-0.10343088 </td><td> 0.16352548 </td><td> 0.28607312 </td><td> 0.1649426  </td><td> 1.000000000</td><td>-0.58010969 </td></tr>\n",
       "\t<tr><th scope=row>censrec</th><td>-0.080016315</td><td>0.02838536  </td><td> 0.14519990 </td><td>-0.22003284 </td><td>-0.28628077 </td><td>-0.1965068  </td><td>-0.580109691</td><td> 1.00000000 </td></tr>\n",
       "</tbody>\n",
       "</table>\n"
      ],
      "text/latex": [
       "\\begin{tabular}{r|llllllll}\n",
       "  & id & age & menopause & hormone & prog\\_recp & estrg\\_recp & rectime & censrec\\\\\n",
       "\\hline\n",
       "\tid &  1.000000000 & 0.02323118   &  0.07067689  & -0.05966129  &  0.04049627  &  0.1748444   & -0.005059552 & -0.08001632 \\\\\n",
       "\tage &  0.023231176 & 1.00000000   &  0.79581730  &  0.25719905  &  0.04123542  &  0.3217537   &  0.021608614 &  0.02838536 \\\\\n",
       "\tmenopause &  0.070676890 & 0.79581730   &  1.00000000  &  0.14855712  & -0.06588442  &  0.2363330   & -0.103430881 &  0.14519990 \\\\\n",
       "\thormone & -0.059661288 & 0.25719905   &  0.14855712  &  1.00000000  &  0.06053413  &  0.1534863   &  0.163525476 & -0.22003284 \\\\\n",
       "\tprog\\_recp &  0.040496275 & 0.04123542   & -0.06588442  &  0.06053413  &  1.00000000  &  0.4255851   &  0.286073120 & -0.28628077 \\\\\n",
       "\testrg\\_recp &  0.174844441 & 0.32175365   &  0.23633297  &  0.15348627  &  0.42558514  &  1.0000000   &  0.164942607 & -0.19650683 \\\\\n",
       "\trectime & -0.005059552 & 0.02160861   & -0.10343088  &  0.16352548  &  0.28607312  &  0.1649426   &  1.000000000 & -0.58010969 \\\\\n",
       "\tcensrec & -0.080016315 & 0.02838536   &  0.14519990  & -0.22003284  & -0.28628077  & -0.1965068   & -0.580109691 &  1.00000000 \\\\\n",
       "\\end{tabular}\n"
      ],
      "text/markdown": [
       "\n",
       "| <!--/--> | id | age | menopause | hormone | prog_recp | estrg_recp | rectime | censrec | \n",
       "|---|---|---|---|---|---|---|---|\n",
       "| id |  1.000000000 | 0.02323118   |  0.07067689  | -0.05966129  |  0.04049627  |  0.1748444   | -0.005059552 | -0.08001632  | \n",
       "| age |  0.023231176 | 1.00000000   |  0.79581730  |  0.25719905  |  0.04123542  |  0.3217537   |  0.021608614 |  0.02838536  | \n",
       "| menopause |  0.070676890 | 0.79581730   |  1.00000000  |  0.14855712  | -0.06588442  |  0.2363330   | -0.103430881 |  0.14519990  | \n",
       "| hormone | -0.059661288 | 0.25719905   |  0.14855712  |  1.00000000  |  0.06053413  |  0.1534863   |  0.163525476 | -0.22003284  | \n",
       "| prog_recp |  0.040496275 | 0.04123542   | -0.06588442  |  0.06053413  |  1.00000000  |  0.4255851   |  0.286073120 | -0.28628077  | \n",
       "| estrg_recp |  0.174844441 | 0.32175365   |  0.23633297  |  0.15348627  |  0.42558514  |  1.0000000   |  0.164942607 | -0.19650683  | \n",
       "| rectime | -0.005059552 | 0.02160861   | -0.10343088  |  0.16352548  |  0.28607312  |  0.1649426   |  1.000000000 | -0.58010969  | \n",
       "| censrec | -0.080016315 | 0.02838536   |  0.14519990  | -0.22003284  | -0.28628077  | -0.1965068   | -0.580109691 |  1.00000000  | \n",
       "\n",
       "\n"
      ],
      "text/plain": [
       "           id           age        menopause   hormone     prog_recp  \n",
       "id          1.000000000 0.02323118  0.07067689 -0.05966129  0.04049627\n",
       "age         0.023231176 1.00000000  0.79581730  0.25719905  0.04123542\n",
       "menopause   0.070676890 0.79581730  1.00000000  0.14855712 -0.06588442\n",
       "hormone    -0.059661288 0.25719905  0.14855712  1.00000000  0.06053413\n",
       "prog_recp   0.040496275 0.04123542 -0.06588442  0.06053413  1.00000000\n",
       "estrg_recp  0.174844441 0.32175365  0.23633297  0.15348627  0.42558514\n",
       "rectime    -0.005059552 0.02160861 -0.10343088  0.16352548  0.28607312\n",
       "censrec    -0.080016315 0.02838536  0.14519990 -0.22003284 -0.28628077\n",
       "           estrg_recp rectime      censrec    \n",
       "id          0.1748444 -0.005059552 -0.08001632\n",
       "age         0.3217537  0.021608614  0.02838536\n",
       "menopause   0.2363330 -0.103430881  0.14519990\n",
       "hormone     0.1534863  0.163525476 -0.22003284\n",
       "prog_recp   0.4255851  0.286073120 -0.28628077\n",
       "estrg_recp  1.0000000  0.164942607 -0.19650683\n",
       "rectime     0.1649426  1.000000000 -0.58010969\n",
       "censrec    -0.1965068 -0.580109691  1.00000000"
      ]
     },
     "metadata": {},
     "output_type": "display_data"
    }
   ],
   "source": [
    "#correlation matrix\n",
    "cor(gbcs)"
   ]
  },
  {
   "cell_type": "markdown",
   "metadata": {},
   "source": [
    "We note that age and menopause variables are correlated, which is not surprising since menopause appears with age.  \n",
    "However, this matrix does not bring us any more information."
   ]
  },
  {
   "cell_type": "markdown",
   "metadata": {},
   "source": [
    "## 1.1- Censored data:\n",
    "Now we will use the *surv* function to link the censored data with the recurrence time. Then we will use the command *recsurv* and a **+** indicates the censored data."
   ]
  },
  {
   "cell_type": "code",
   "execution_count": 22,
   "metadata": {},
   "outputs": [
    {
     "name": "stdout",
     "output_type": "stream",
     "text": [
      "  [1] 1337  1420  1279   148+ 1863+ 1933+  358  2372  2563+ 2372+ 1989   579 \n",
      " [13] 1043  2234+ 2297+ 2014+  518  1763   889   357   547  1722+ 2372+  251 \n",
      " [25] 1959+ 1897+  348   275  1329  1193   698   436   552  2551+  754   819 \n",
      " [37] 1280   663+  722   322+ 1150   446  1855+  238  1838+ 1826+ 2353+ 2471+\n",
      " [49]  893  2093   740+  632  1866+  491  1918    72  2556+ 1753   417   956 \n",
      " [61] 1846+ 2449+ 2286   456   536   612  2034  1990  1976+ 2539+ 2467+  876 \n",
      " [73] 2132+  426   537  2217+  296+ 2320+  795   867   755  1388  1387   535 \n",
      " [85] 1653+ 1904+ 1868+ 1767+  855  1157  2380+ 1679   498  2138+ 2175+  563 \n",
      " [97]   46+ 2144+  344   945+\n"
     ]
    }
   ],
   "source": [
    "library(survival)\n",
    "recsurv<-Surv(rectime,censrec)\n",
    "print(recsurv)"
   ]
  },
  {
   "cell_type": "markdown",
   "metadata": {},
   "source": [
    "Now we can see that the first observation has a recurrence time of $1337$ days and is not censored but the fourth patient left the study on the $148^{th}$ day, thi data is censored. "
   ]
  },
  {
   "cell_type": "markdown",
   "metadata": {},
   "source": [
    "## 2- The Kaplan-Meier estimator:\n",
    "This division of censored and uncensored data will allow us to plot the survival function of the recurrence time using the Kaplan-Meier estimator."
   ]
  },
  {
   "cell_type": "code",
   "execution_count": 25,
   "metadata": {},
   "outputs": [
    {
     "data": {
      "image/png": "[encoded data removed]",
      "text/plain": [
       "Plot with title \"survival function for rectime (K-M estimate)\""
      ]
     },
     "metadata": {},
     "output_type": "display_data"
    }
   ],
   "source": [
    "fit_KM <- survfit(recsurv~1,type=\"kaplan-meier\", conf.type=\"log-log\")\n",
    "plot(fit_KM, main=\"survival function for rectime (K-M estimate)\", xlab=\"days\", ylab=\"p\")"
   ]
  },
  {
   "cell_type": "markdown",
   "metadata": {},
   "source": [
    "At the beginning of the study, all the patients do not have a recurrence of breast cancer, after $500$ days it is $90$% of the patients and after $2500$ days it drops to $35$% of the patients.  \n",
    "## 2.1- The cumulative hazard function:  \n",
    "We can also observe the risk of recurrence of breast cancer the cumulative hazard function, we use the command *cumhaz*. "
   ]
  },
  {
   "cell_type": "code",
   "execution_count": 26,
   "metadata": {},
   "outputs": [
    {
     "data": {
      "image/png": "[encoded data removed]",
      "text/plain": [
       "plot without title"
      ]
     },
     "metadata": {},
     "output_type": "display_data"
    }
   ],
   "source": [
    "plot(fit_KM, fun=\"cumhaz\")"
   ]
  },
  {
   "cell_type": "markdown",
   "metadata": {},
   "source": [
    "## 3- Observe the impact of the variables:\n",
    "With the *surfit* function we will be able to illustrate the impact of the variables on the survival function.  \n",
    "We will only study the impact of the number of hormone receptors (progesterone and estrogen) on the survival function.  \n",
    "The population is divided into two categories: those with many hormone receptors and those with fewer hormones. For this we use the median."
   ]
  },
  {
   "cell_type": "code",
   "execution_count": 30,
   "metadata": {},
   "outputs": [
    {
     "data": {
      "image/png": "[encoded data removed]",
      "text/plain": [
       "plot without title"
      ]
     },
     "metadata": {},
     "output_type": "display_data"
    },
    {
     "data": {
      "image/png": "[encoded data removed]",
      "text/plain": [
       "plot without title"
      ]
     },
     "metadata": {},
     "output_type": "display_data"
    }
   ],
   "source": [
    "fit <- survfit(recsurv~as.numeric(prog_recp>median(prog_recp)))\n",
    "plot(fit, col=c(2,4))\n",
    "legend(\"topright\",leg.txt,col=c(2,4),lty=1)\n",
    "\n",
    "fit <- survfit(recsurv~as.numeric(estrg_recp>median(estrg_recp)))\n",
    "plot(fit, col=c(2,4))\n",
    "legend(\"topright\",leg.txt,col=c(2,4),lty=1)"
   ]
  },
  {
   "cell_type": "markdown",
   "metadata": {},
   "source": [
    "We can observe that the patients with more hormone receptors (blue curve) have a better chance of survival."
   ]
  },
  {
   "cell_type": "markdown",
   "metadata": {},
   "source": [
    "## 4- Fitting a distribution:\n",
    "In survival analysis, we often try to find a known distribution that corresponds to the survival function.  \n",
    "To check which distribution fit the best to our model we will use the command *survreg*.\n"
   ]
  },
  {
   "cell_type": "code",
   "execution_count": 31,
   "metadata": {},
   "outputs": [
    {
     "data": {
      "text/plain": [
       "\n",
       "Call:\n",
       "survreg(formula = recsurv ~ 1, dist = \"exponential\")\n",
       "            Value Std. Error    z      p\n",
       "(Intercept) 7.733      0.131 58.9 <2e-16\n",
       "\n",
       "Scale fixed at 1 \n",
       "\n",
       "Exponential distribution\n",
       "Loglik(model)= -506.5   Loglik(intercept only)= -506.5\n",
       "Number of Newton-Raphson Iterations: 4 \n",
       "n= 100 \n"
      ]
     },
     "metadata": {},
     "output_type": "display_data"
    },
    {
     "data": {
      "text/plain": [
       "\n",
       "Call:\n",
       "survreg(formula = recsurv ~ 1, dist = \"weibull\")\n",
       "             Value Std. Error     z      p\n",
       "(Intercept)  7.667      0.108 71.31 <2e-16\n",
       "Log(scale)  -0.230      0.113 -2.03  0.043\n",
       "\n",
       "Scale= 0.795 \n",
       "\n",
       "Weibull distribution\n",
       "Loglik(model)= -504.7   Loglik(intercept only)= -504.7\n",
       "Number of Newton-Raphson Iterations: 5 \n",
       "n= 100 \n"
      ]
     },
     "metadata": {},
     "output_type": "display_data"
    },
    {
     "data": {
      "text/plain": [
       "\n",
       "Call:\n",
       "survreg(formula = recsurv ~ 1, dist = \"gaussian\")\n",
       "               Value Std. Error    z      p\n",
       "(Intercept) 1688.859    125.598 13.4 <2e-16\n",
       "Log(scale)     7.000      0.101 69.4 <2e-16\n",
       "\n",
       "Scale= 1096 \n",
       "\n",
       "Gaussian distribution\n",
       "Loglik(model)= -520.1   Loglik(intercept only)= -520.1\n",
       "Number of Newton-Raphson Iterations: 5 \n",
       "n= 100 \n"
      ]
     },
     "metadata": {},
     "output_type": "display_data"
    },
    {
     "data": {
      "text/plain": [
       "\n",
       "Call:\n",
       "survreg(formula = recsurv ~ 1, dist = \"logistic\")\n",
       "               Value Std. Error    z      p\n",
       "(Intercept) 1640.760    132.060 12.4 <2e-16\n",
       "Log(scale)     6.530      0.107 61.0 <2e-16\n",
       "\n",
       "Scale= 685 \n",
       "\n",
       "Logistic distribution\n",
       "Loglik(model)= -522.9   Loglik(intercept only)= -522.9\n",
       "Number of Newton-Raphson Iterations: 4 \n",
       "n= 100 \n"
      ]
     },
     "metadata": {},
     "output_type": "display_data"
    },
    {
     "data": {
      "text/plain": [
       "\n",
       "Call:\n",
       "survreg(formula = recsurv ~ 1, dist = \"lognormal\")\n",
       "             Value Std. Error     z      p\n",
       "(Intercept) 7.3195     0.1213 60.33 <2e-16\n",
       "Log(scale)  0.0547     0.1004  0.54   0.59\n",
       "\n",
       "Scale= 1.06 \n",
       "\n",
       "Log Normal distribution\n",
       "Loglik(model)= -501.3   Loglik(intercept only)= -501.3\n",
       "Number of Newton-Raphson Iterations: 5 \n",
       "n= 100 \n"
      ]
     },
     "metadata": {},
     "output_type": "display_data"
    },
    {
     "data": {
      "text/plain": [
       "\n",
       "Call:\n",
       "survreg(formula = recsurv ~ 1, dist = \"loglogistic\")\n",
       "             Value Std. Error     z      p\n",
       "(Intercept)  7.307      0.119 61.52 <2e-16\n",
       "Log(scale)  -0.466      0.109 -4.27  2e-05\n",
       "\n",
       "Scale= 0.627 \n",
       "\n",
       "Log logistic distribution\n",
       "Loglik(model)= -502.5   Loglik(intercept only)= -502.5\n",
       "Number of Newton-Raphson Iterations: 4 \n",
       "n= 100 \n"
      ]
     },
     "metadata": {},
     "output_type": "display_data"
    }
   ],
   "source": [
    "fit_exp<-survreg(recsurv~1, dist=\"exponential\")\n",
    "fit_weibull<-survreg(recsurv~1, dist=\"weibull\")\n",
    "fit_gauss<-survreg(recsurv~1, dist=\"gaussian\")\n",
    "fit_logistic<-survreg(recsurv~1, dist=\"logistic\")\n",
    "fit_lognormal<-survreg(recsurv~1, dist=\"lognormal\")\n",
    "fit_loglogistic<-survreg(recsurv~1, dist=\"loglogistic\")\n",
    "summary(fit_exp)\n",
    "summary(fit_weibull)\n",
    "summary(fit_gauss)\n",
    "summary(fit_logistic)\n",
    "summary(fit_lognormal)\n",
    "summary(fit_loglogistic)"
   ]
  },
  {
   "cell_type": "markdown",
   "metadata": {},
   "source": [
    "The log-normal distribution fits the best with our model:"
   ]
  },
  {
   "cell_type": "code",
   "execution_count": 61,
   "metadata": {},
   "outputs": [
    {
     "data": {
      "image/png": "[encoded data removed]",
      "text/plain": [
       "plot without title"
      ]
     },
     "metadata": {},
     "output_type": "display_data"
    }
   ],
   "source": [
    "library(flexsurv)\n",
    "fit_lognormal<-flexsurvreg(recsurv~1, dist=\"lnorm\")\n",
    "plot(fit_lognormal)"
   ]
  },
  {
   "cell_type": "markdown",
   "metadata": {},
   "source": [
    "# IV-Semi-parametrics models: The cox proportional hazard model"
   ]
  },
  {
   "cell_type": "markdown",
   "metadata": {},
   "source": [
    "## 1-Proportional hazard models:"
   ]
  },
  {
   "cell_type": "markdown",
   "metadata": {},
   "source": [
    "These models express a multiplicative effect of the various covariates on the hazard function. We introduce a baseline hazard function that gives the general form of chance and which is common to all individuals.  \n",
    "The proportional hazards models are characterized by the following relation:\n",
    "$$\\forall t>0, \\lambda(t)=\\lambda_{0}(t)h(\\beta,X)$$\n",
    "\n",
    "$X$ is the covariate vector  \n",
    "$\\beta$ is the parameter of interest  \n",
    "$h$ is a positive function  \n",
    "\n",
    "\n",
    "The hazard function is the product of a function that depends only on time and a function that does not depend on it.  \n",
    "This kind of model is called a $\\mathbf{proportional}$ $\\mathbf{model}$ because for two different subjects i and j of covariates $X_{i}$ and $X_{j}$, the ratio of their hazard functions does not depend on time.  \n",
    "Moreover, if $\\lambda_{0}$ and/or $h$ are unknown, the model is called $\\mathbf{semi-parametric}$.\n"
   ]
  },
  {
   "cell_type": "markdown",
   "metadata": {},
   "source": [
    "## 2-Definition of the Cox Model:"
   ]
  },
  {
   "cell_type": "markdown",
   "metadata": {},
   "source": [
    "The Cox proportional hazards regression model the hazard rate is defined by\n",
    "$$h_{i}(t)=h_{0}(t) \\exp(\\beta_{1}x_{i1}+...+\\beta_{k}x_{ik})$$\n",
    "\n",
    "where $x = (x_{1},..., x_{k})$ is the vector of predictors and $\\beta=(\\beta_{1},..,\\beta_{k})$ is the vector of unknown coefficients that we want to estimate. The factor $h_{0}(t)$ is the baseline hazard function. This correspond to the hazard rate when all predictors are equals to zero.  \n",
    "Thus, this model is semi-parametric since the baseline hazard function can take any form.\n",
    "\n",
    "We will consider, now, two cases i and j that differ in their x-values:\n",
    "$$\\eta_{i}=\\beta_{1}x_{i1}+...+\\beta_{k}x_{ik}$$\n",
    "$$\\eta_{j}=\\beta_{1}x_{j1}+...+\\beta_{k}x_{jk}$$\n",
    "The hazard ratio is this case is independant of time:  \n",
    "$$\\dfrac{h_{i}(t)}{h_{j}(t)}=\\dfrac{h_{0}(t)\\exp(\\eta_{i})}{h_{0}(t)\\exp(\\eta_{j})}=\\dfrac{\\exp(\\eta_{i})}{\\exp(\\eta_{j})}$$\n",
    "Consequently, the Cox model is a proportional-hazards model.  "
   ]
  },
  {
   "cell_type": "markdown",
   "metadata": {},
   "source": [
    "## 3-Interpretation of the coefficients:"
   ]
  },
  {
   "cell_type": "markdown",
   "metadata": {},
   "source": [
    "In the case where X is a dichotomous variable which takes the values $0$ or $1$ according to the absence or the presence of the characteristic considered.  \n",
    "The ratio of the instantaneous risk of the subjects of the class 1 compared to the class 0 is:\n",
    "$$\\dfrac{h(t,1)}{h(t,0)}=e^{\\beta}$$\n",
    "The $\\beta$ coefficient is therefore the logarithm of the relative instantaneous risk of class $1$ with respect to class $0$.\n",
    "In general, the $\\beta$ coefficients represent the effect of the characteristic $X_{j}$ and the occurrence of the event.  \n",
    "If $\\beta_{j}$ is zero, the $j^{th}$ characteristic has no influence on the event considered. If $\\beta^{j}$ is positive and if two subjects differ only in the $j^{th}$ characteristic, high values of the $j^{th}$ characteristic are associated with a higher instantaneous risk.\n",
    "Conversely, if $\\beta_{j}$ is negative, high values of the $j^{th}$ characteristic are associated with a lower instant risk.\n",
    "\n",
    "For example, let a covariate $X_ {j}$ which can take two values: $0$ if the person takes the treatment $A$ or $1$ if it is the treatment $B$. We take as reference the persons who take the treatment $A$ , then the coefficient $\\beta _ {j}$ is the relative risk (instant risk of death) associated with treatment $B$ over treatment $A$.  \n",
    "In other words, individuals taking treatment $B$ have an instant risk of death  $\\exp \\left(\\beta_{j} \\right)$ times that of individuals taking treatment $A$."
   ]
  },
  {
   "cell_type": "markdown",
   "metadata": {},
   "source": [
    "## 4-Estimation and test:"
   ]
  },
  {
   "cell_type": "markdown",
   "metadata": {},
   "source": [
    "The principle for the Cox model is to estimate the coefficients $\\beta_{j}$. We do not try to estimate $\\lambda_{0}(t)$.  \n",
    "The estimators of $ \\beta_{j} $ are obtained by the maximum likelihood method. More exactly, only the part of the likelihood who  contains the information on the coefficients $ \\beta_{j} $ is used for calculations. This is called the $\\textbf{cox}$ $\\textbf{partial}$ $\\textbf{likelihood}$.  \n",
    "We test the hypothesis $ H_ {0} $ that the vector $ \\beta = (\\beta_{1}, ...,\\beta_{k}) $ is equal to zero. It is possible to use three tests: the score test, the Wald test and the likelihood ratio test."
   ]
  },
  {
   "cell_type": "markdown",
   "metadata": {},
   "source": [
    "## 4.1- Cox partial likelihood: \n",
    "The idea is that no information can be given about $\\beta$ by the intervals during which no event has taken place, because $\\lambda_{0}$ is none in these intervals.  \n",
    "We then work on the moments when the studied event occurs.  \n",
    "\n",
    "$\\textbf{Untied}$ $\\textbf{times}$: To begin, we will assume that there is only one event at each interval time.  \n",
    "As in section II, we denote $t_{1}<t_{2}<...<t_{m}$ the observed distinct times of \"death\".  \n",
    "Let $R_{i}$ is the set of subjects that are at risk just before time $t_{i}$  \n",
    "We call $j_{(i)}$ the subject who fail at time $t_{i}$.  \n",
    "The conditional probability that this subject would fail at $t_{i}$ is given by the following formula:  \n",
    "$$\\dfrac{\\lambda_{0}(t_{i}) \\exp \\left(\\beta X_{j_{(i)}} \\right) }{\\sum_{i\\in R_{i}} \\lambda_{0} \\left(t_{i} \\right) \\exp \\left(\\beta X_{j} \\right)}$$\n",
    "The baseline hazard cancels, so the probability is:  \n",
    "$$\\dfrac{\\exp \\left( \\beta X_{j_{(i)}} \\right)}{\\sum_{i\\in R_{i}} \\exp \\left(\\beta X_{j} \\right) }$$\n",
    "This probability only depends on the parameter $\\beta$.  \n",
    "\n",
    "Since there are contributions at each time of death, the partial likelihood of Cox is defined as the following product:  \n",
    "$$ L=\\prod_{i \\in R_{i}}^m  \\dfrac{\\exp \\left( \\beta X_{j_{(i)}} \\right)}{\\sum_{i\\in R_{i}} \\exp \\left(\\beta X_{j} \\right) }$$\n",
    "In his original paper Cox called this a \"conditional likelihood\" because it is a product of conditional probabilities,\n",
    "but later abandoned the name because L is not itself a conditional probability.  \n",
    "L is neither a likelihood in a statistical meaning, but it behaves as such, therefore Cox proposed calling L a partial likelihood.  "
   ]
  },
  {
   "cell_type": "markdown",
   "metadata": {},
   "source": [
    "$\\textbf{Tied}$ $\\textbf{times}$: The previous reasoning assumes distinct event times. In the case of real data, this hypothesis is not always verified.  \n",
    "When it occurs several events, the exact method consists to admit that the events appear one after the other.  \n",
    "However, we do not know in which order, we must consider all possibilities.\n",
    "For example, in the case of two subjects $s_{1}$ and $s_{2}$ of characteristics $X_{1}$ and $X_{2}$ which die in $T_{i}$.  \n",
    "The exact likelihood would be:\n",
    "$$\\dfrac{\\exp \\left( \\beta X_{1} \\right) \\exp \\left( \\beta X_{2} \\right)}{\\sum_{i\\in R_{i}} \\exp \\left(\\beta X_{j} \\right) \\times \\sum_{i\\in R_{i} \\backslash s_{1}} \\exp \\left(\\beta X_{j} \\right)} + \\dfrac{\\exp \\left( \\beta X_{1} \\right) \\exp \\left( \\beta X_{2} \\right)}{\\sum_{i\\in R_{i}} \\exp \\left(\\beta X_{j} \\right) \\times \\sum_{i\\in R_{i} \\backslash s_{2}} \\exp \\left(\\beta X_{j} \\right)}$$\n",
    "\n",
    "The problem with this method is that the calculation time becomes very long when there is many simultaneous events. Therefore, several approximated partial likelihood functions have been developped: The Breslow's method in 1974, the Efron's method in 1977, and the Kalbfleisch and Prentice's method in 1973.  \n",
    "According to Hertz-Picciotto and Rockhill, in most scenarios the Efron approximation is the best method."
   ]
  },
  {
   "cell_type": "markdown",
   "metadata": {},
   "source": [
    "## 4.2-Tests:"
   ]
  },
  {
   "cell_type": "markdown",
   "metadata": {},
   "source": [
    "We often want to check some hypothesis about the regression coefficients. The tests, deduced from the asymptotic properties of $\\beta$, are often based on the hypothesis: $H_{0}: \\beta = \\beta_{0}$  \n",
    "The following three statistics are used:  \n",
    "\n",
    "## 4.2.1- The Wald test: \n",
    "This test assess the constraints based on the squared difference between the estimated and hypothesized parameter values.  \n",
    "In large samples $\\hat{\\beta}$ has a multivariate normal distribution with mean $\\beta$ and the covariance matrix $var(\\beta)=I^{-1}(\\beta)$. Thus, under $H_{0}: \\beta = \\beta_{0}$, the quadratic form:  \n",
    "$$(\\hat{\\beta}-\\beta_{0})' var^{-1}(\\hat{\\beta})(\\hat{\\beta}-\\beta_{0}) \\longrightarrow \\chi^{2}_{p}$$\n",
    "p is the dimension of $\\beta$\n",
    "\n",
    "## 4.2.2-The likelihood ratio test:  \n",
    "In statistics, a likelihood-ratio test is a statistical test used for comparing the goodness of fit of two statistical models, a null model (representing the null hypothesis) against an alternative model (representing an alternative hypothesis). So we use the following statistic:  \n",
    "$$\\chi^{2}_{L}=2 \\left( \\log(L_{p}(\\hat{\\beta})) - \\log(L_{p}(\\beta_{0}))\\right)$$\n",
    "It is a chi-square distribution with p degrees of freedom for large samples\n",
    "\n",
    "## 4.2.3- The score test:  \n",
    "The basic idea behind the score test, also known as the Lagrange multiplier test, is that if the restricted estimator is near the maximum of the likelihood function, the gradient of the likelihood function, known as the score function, evaluated at the restricted estimator should be close to zero, and can be shown to asymptotically follow a normal distribution with mean zero and known variance.  \n",
    "The score test is based on the scores, $U(\\beta)=\\dfrac{\\partial \\log L_{p}(\\beta \\mid x)}{\\partial \\beta}$. For large samples $U(\\beta)$ has a p-variate normal distribution with mean $0$ and covariance matrix $I(\\beta)$ under $H_{0}: \\beta=\\beta_{0}$. Hence, the test statistic: \n",
    "$$U(\\beta_{0})'I^{-1}(\\beta_{0})U(\\beta_{0}) \\longrightarrow \\chi^{2}_{S}$$  "
   ]
  },
  {
   "cell_type": "markdown",
   "metadata": {},
   "source": [
    "These three tests follow, under $H_{0}$, a chi square distribution of p degrees of freedom (p is the dimension of the vector $\\beta$). The advantage of the likelihood ratio test is that it does not require to calculate the second derivatives of the log-likelihood and the advantage of the score test is that it does not require to estimate $\\hat{\\beta}$."
   ]
  },
  {
   "cell_type": "markdown",
   "metadata": {},
   "source": [
    "## 5- Extensions of the model:"
   ]
  },
  {
   "cell_type": "markdown",
   "metadata": {},
   "source": [
    "## 5.1-Time-varying covariates"
   ]
  },
  {
   "cell_type": "markdown",
   "metadata": {},
   "source": [
    "One of the strengths of the Cox model is its ability to take in covariates that change over time. Nevertheless, $X_{t}$ must be known at time $t$.  \n",
    "The practical reason that time-dependent covariates work is based on the underlying way in which the Cox model works: at each event time the program compares the current covariate values of the subject who had the event to the current values of all others who were at risk at that time.  \n",
    "An example of time dependent covariates can be the study of a treatment who vary with time: e.g. a drug may be very effective if administered within one month and become less effective as time goes on. The hypothesis of no change with time of the coefficient may then be tested.  \n",
    "\n",
    "In this case the statistics of the Cox model are identical nevertheless, we can make the following remarks:  \n",
    "-It is necessary to know the value of the covariates for each event time.  \n",
    "-The interpretation becomes diffcult because the risk is specific to each covariate.  \n",
    "-The proportional hazard hypothesis is preserved. Indeed, hazard functions for the different covariates remain proportional and their ratios are independent of time. The effect of the covariate does not change during the time, it is the variable that varies.  \n",
    "-One use of time-varying covariates is to check the assumption of proportionality of hazards"
   ]
  },
  {
   "cell_type": "markdown",
   "metadata": {},
   "source": [
    "## 5.2- Stratified Cox model:"
   ]
  },
  {
   "cell_type": "markdown",
   "metadata": {},
   "source": [
    "In the case where a qualitative variable does not satisfy the hypothesis of proportional hazards, we can consider a stratified Cox model.  \n",
    "For example, in colon cancer, stage II and stage III diseases have different prognosis. In a therapeutic study, we may expect similar amount of improvement by using a new treatment, but the baseline hazard for stage II and III cancer should be allowed to be different.  \n",
    "The partial likelihood is calculated in each strata and the total likelihood is the product of the likelihoods of each strata.\n",
    "The stratified Cox model assumes that the X covariates act in the same way in each strata."
   ]
  },
  {
   "cell_type": "markdown",
   "metadata": {},
   "source": [
    "## 5.3- The frailty model:"
   ]
  },
  {
   "cell_type": "markdown",
   "metadata": {},
   "source": [
    "The Cox model assumes that the population is homogeneous. Nevertheless, this hypothesis is not always realistic, especially when important covariates are not observable or are unknown.  \n",
    "The Frailty models make it possible to take into account the heterogeneity of the observations. The idea is to suppose that different patients possess different frailties and patients more ”frail” tend to have the event earlier that those who are less frail. \n",
    "\n",
    "Let $X_{0}$ be a new unobserved covariate. We assume, that the effect of the covariates is a real quantity $\\exp(\\beta_{0}X_{0})$, then the hazard function is:  \n",
    "$$\\lambda (t|X, X_{0})= \\lambda_{0}(t) \\exp(\\beta_{0} X_{0}) \\exp(\\beta X)$$\n",
    "We note $\\omega=\\exp(\\beta_{0}Z_{0})$ the positive covariate called the \"frail\".  \n",
    "The conditionnal survival function is:\n",
    "$$S(t|X,\\omega)=\\exp(- \\displaystyle \\int_{0}^{t} \\lambda(s) \\omega e^{\\beta X} \\, \\mathrm{d}s)=\\exp(- \\omega e^{\\beta X} \\Lambda(t)) $$"
   ]
  },
  {
   "cell_type": "markdown",
   "metadata": {},
   "source": [
    "# V- Compute the Cox model in R: Simulation on lung cancer data"
   ]
  },
  {
   "cell_type": "markdown",
   "metadata": {},
   "source": [
    "## 1-Exploring the data:"
   ]
  },
  {
   "cell_type": "code",
   "execution_count": 36,
   "metadata": {},
   "outputs": [
    {
     "name": "stderr",
     "output_type": "stream",
     "text": [
      "also installing the dependencies 'ggrepel', 'ggsci', 'cowplot', 'ggsignif', 'exactRankTests', 'km.ci', 'ggpubr', 'maxstat', 'survMisc', 'cmprsk'\n",
      "\n",
      "Warning message:\n",
      "\"unable to access index for repository http://www.stats.ox.ac.uk/pub/RWin/bin/windows/contrib/3.5:\n",
      "  impossible d'ouvrir l'URL 'http://www.stats.ox.ac.uk/pub/RWin/bin/windows/contrib/3.5/PACKAGES'\"Warning message:\n",
      "\"package 'survival' is in use and will not be installed\""
     ]
    },
    {
     "name": "stdout",
     "output_type": "stream",
     "text": [
      "package 'ggrepel' successfully unpacked and MD5 sums checked\n",
      "package 'ggsci' successfully unpacked and MD5 sums checked\n",
      "package 'cowplot' successfully unpacked and MD5 sums checked\n",
      "package 'ggsignif' successfully unpacked and MD5 sums checked\n",
      "package 'exactRankTests' successfully unpacked and MD5 sums checked\n",
      "package 'km.ci' successfully unpacked and MD5 sums checked\n",
      "package 'ggpubr' successfully unpacked and MD5 sums checked\n",
      "package 'maxstat' successfully unpacked and MD5 sums checked\n",
      "package 'survMisc' successfully unpacked and MD5 sums checked\n",
      "package 'cmprsk' successfully unpacked and MD5 sums checked\n",
      "package 'survminer' successfully unpacked and MD5 sums checked\n",
      "\n",
      "The downloaded binary packages are in\n",
      "\tC:\\Users\\mulot\\AppData\\Local\\Temp\\Rtmpiuhc9Y\\downloaded_packages\n"
     ]
    }
   ],
   "source": [
    "install.packages(c(\"survival\", \"survminer\"))"
   ]
  },
  {
   "cell_type": "code",
   "execution_count": 40,
   "metadata": {
    "collapsed": true
   },
   "outputs": [],
   "source": [
    "library(\"survival\")\n",
    "library(\"survminer\")"
   ]
  },
  {
   "cell_type": "markdown",
   "metadata": {},
   "source": [
    "We will use the lung cancer dataset  implemented in the \"survival\" package. It is a dataset of survival data of 228 patients with advanced lung cancer from the North Central Cancer Treatment Group."
   ]
  },
  {
   "cell_type": "code",
   "execution_count": 41,
   "metadata": {},
   "outputs": [
    {
     "data": {
      "text/html": [
       "<table>\n",
       "<thead><tr><th scope=col>inst</th><th scope=col>time</th><th scope=col>status</th><th scope=col>age</th><th scope=col>sex</th><th scope=col>ph.ecog</th><th scope=col>ph.karno</th><th scope=col>pat.karno</th><th scope=col>meal.cal</th><th scope=col>wt.loss</th></tr></thead>\n",
       "<tbody>\n",
       "\t<tr><td> 3  </td><td> 306</td><td>2   </td><td>74  </td><td>1   </td><td>1   </td><td> 90 </td><td>100 </td><td>1175</td><td>NA  </td></tr>\n",
       "\t<tr><td> 3  </td><td> 455</td><td>2   </td><td>68  </td><td>1   </td><td>0   </td><td> 90 </td><td> 90 </td><td>1225</td><td>15  </td></tr>\n",
       "\t<tr><td> 3  </td><td>1010</td><td>1   </td><td>56  </td><td>1   </td><td>0   </td><td> 90 </td><td> 90 </td><td>  NA</td><td>15  </td></tr>\n",
       "\t<tr><td> 5  </td><td> 210</td><td>2   </td><td>57  </td><td>1   </td><td>1   </td><td> 90 </td><td> 60 </td><td>1150</td><td>11  </td></tr>\n",
       "\t<tr><td> 1  </td><td> 883</td><td>2   </td><td>60  </td><td>1   </td><td>0   </td><td>100 </td><td> 90 </td><td>  NA</td><td> 0  </td></tr>\n",
       "\t<tr><td>12  </td><td>1022</td><td>1   </td><td>74  </td><td>1   </td><td>1   </td><td> 50 </td><td> 80 </td><td> 513</td><td> 0  </td></tr>\n",
       "</tbody>\n",
       "</table>\n"
      ],
      "text/latex": [
       "\\begin{tabular}{r|llllllllll}\n",
       " inst & time & status & age & sex & ph.ecog & ph.karno & pat.karno & meal.cal & wt.loss\\\\\n",
       "\\hline\n",
       "\t  3   &  306 & 2    & 74   & 1    & 1    &  90  & 100  & 1175 & NA  \\\\\n",
       "\t  3   &  455 & 2    & 68   & 1    & 0    &  90  &  90  & 1225 & 15  \\\\\n",
       "\t  3   & 1010 & 1    & 56   & 1    & 0    &  90  &  90  &   NA & 15  \\\\\n",
       "\t  5   &  210 & 2    & 57   & 1    & 1    &  90  &  60  & 1150 & 11  \\\\\n",
       "\t  1   &  883 & 2    & 60   & 1    & 0    & 100  &  90  &   NA &  0  \\\\\n",
       "\t 12   & 1022 & 1    & 74   & 1    & 1    &  50  &  80  &  513 &  0  \\\\\n",
       "\\end{tabular}\n"
      ],
      "text/markdown": [
       "\n",
       "inst | time | status | age | sex | ph.ecog | ph.karno | pat.karno | meal.cal | wt.loss | \n",
       "|---|---|---|---|---|---|\n",
       "|  3   |  306 | 2    | 74   | 1    | 1    |  90  | 100  | 1175 | NA   | \n",
       "|  3   |  455 | 2    | 68   | 1    | 0    |  90  |  90  | 1225 | 15   | \n",
       "|  3   | 1010 | 1    | 56   | 1    | 0    |  90  |  90  |   NA | 15   | \n",
       "|  5   |  210 | 2    | 57   | 1    | 1    |  90  |  60  | 1150 | 11   | \n",
       "|  1   |  883 | 2    | 60   | 1    | 0    | 100  |  90  |   NA |  0   | \n",
       "| 12   | 1022 | 1    | 74   | 1    | 1    |  50  |  80  |  513 |  0   | \n",
       "\n",
       "\n"
      ],
      "text/plain": [
       "  inst time status age sex ph.ecog ph.karno pat.karno meal.cal wt.loss\n",
       "1  3    306 2      74  1   1        90      100       1175     NA     \n",
       "2  3    455 2      68  1   0        90       90       1225     15     \n",
       "3  3   1010 1      56  1   0        90       90         NA     15     \n",
       "4  5    210 2      57  1   1        90       60       1150     11     \n",
       "5  1    883 2      60  1   0       100       90         NA      0     \n",
       "6 12   1022 1      74  1   1        50       80        513      0     "
      ]
     },
     "metadata": {},
     "output_type": "display_data"
    }
   ],
   "source": [
    "data(\"lung\")\n",
    "head(lung)"
   ]
  },
  {
   "cell_type": "markdown",
   "metadata": {},
   "source": [
    "$\\textbf{Captions}:$  \n",
    "$\\textbf{inst}$: Institution code  \n",
    "$\\textbf{time}$: Survival time in days  \n",
    "$\\textbf{status}$: censoring status 1=censored, 2=dead  \n",
    "$\\textbf{age}$: Age in years  \n",
    "$\\textbf{sex}$: Male=1 Female=2  \n",
    "$\\textbf{ph.ecog}$: ECOG performance score (0=good 5=dead) it determines the ability of the patient to tolerate therapies in serious illness.  \n",
    "$\\textbf{ph.karno}$: Karnofsky performance score (the Karnofsky scale runs from 100 to 0, where 100 represents full health and 0 death) rated by physician.   \n",
    "$\\textbf{pat.karno}$: Karnofsky performance score as rated by patient  \n",
    "$\\textbf{meal.cal}$: Calories consumed at meals  \n",
    "$\\textbf{wt.loss}$: Weight loss in last six months  "
   ]
  },
  {
   "cell_type": "markdown",
   "metadata": {},
   "source": [
    "## 2- The coxph function:\n",
    "We will use the *coxph* function to compute the Cox proportional hazards regression model.  \n",
    "The simplified format is as follow:\n",
    "\n",
    "coxph(formula, data, method)  \n",
    "\n",
    "-**formula**: a formula object, with the response on the left of a ~ operator, and the terms on the right. The response must be a survival object as returned by the Surv function.  \n",
    "-**data**: a data.frame in which to interpret the variables named in the formula.  \n",
    "-**method**: is used to specify how to handle ties. The default is ‘efron’. Other options are ‘breslow’ and ‘exact’. The default ‘efron’ is generally preferred to the once-popular “breslow” method. The “exact” method is much more computationally intensive.\n"
   ]
  },
  {
   "cell_type": "markdown",
   "metadata": {},
   "source": [
    "We are interested in the covariate sex so we will fit the cox regression on this covariate:"
   ]
  },
  {
   "cell_type": "code",
   "execution_count": 43,
   "metadata": {},
   "outputs": [
    {
     "data": {
      "text/plain": [
       "Call:\n",
       "coxph(formula = Surv(time, status) ~ sex, data = lung)\n",
       "\n",
       "  n= 228, number of events= 165 \n",
       "\n",
       "       coef exp(coef) se(coef)      z Pr(>|z|)   \n",
       "sex -0.5310    0.5880   0.1672 -3.176  0.00149 **\n",
       "---\n",
       "Signif. codes:  0 '***' 0.001 '**' 0.01 '*' 0.05 '.' 0.1 ' ' 1\n",
       "\n",
       "    exp(coef) exp(-coef) lower .95 upper .95\n",
       "sex     0.588      1.701    0.4237     0.816\n",
       "\n",
       "Concordance= 0.579  (se = 0.022 )\n",
       "Rsquare= 0.046   (max possible= 0.999 )\n",
       "Likelihood ratio test= 10.63  on 1 df,   p=0.001\n",
       "Wald test            = 10.09  on 1 df,   p=0.001\n",
       "Score (logrank) test = 10.33  on 1 df,   p=0.001\n"
      ]
     },
     "metadata": {},
     "output_type": "display_data"
    }
   ],
   "source": [
    "res.cox <- coxph(Surv(time, status) ~ sex, data = lung)\n",
    "summary(res.cox)"
   ]
  },
  {
   "cell_type": "markdown",
   "metadata": {},
   "source": [
    "We will interpret the results of this Cox regression:\n",
    "\n",
    "$\\textbf{Statistical}$ $\\textbf{significance}$: The column marked “z” gives the Wald statistic value also called Z-score. It corresponds to the ratio of each regression coefficient to its standard error $z = \\dfrac{coef}{se(coef)}$.  \n",
    "The Wald test (also called the Wald Chi-Squared Test) is a way to find out if explanatory variables in a model are significant.  “Significant” means that they add something to the model; variables that add nothing can be deleted without affecting the model in any meaningful way.  \n",
    "The wald statistic evaluates, whether the $\\beta$ coefficient of a given variable is significantly different from $0$.  \n",
    "If the Wald test shows that the parameters for certain explanatory variables are zero, we can remove the variables from the model. On the contrary, if the test shows the parameters are not zero, we should include the variables in the model.  \n",
    "From the output above (z=-3.176), we can conclude that the variable sex have highly statistically significant coefficients.  \n",
    "\n",
    "$\\textbf{The}$ $\\textbf{regression}$ $\\textbf{coefficients}$: The second feature to note in the Cox model results is the the sign of the regression coefficients (coef):  \n",
    "The coefficients in a Cox regression relate to hazard; a positive coefficient indicates a worse prognosis and a negative coefficient indicates a protective effect of the variable with which it is associated.\n",
    "The variable sex is dichotomic: $1$ for male, $2$ for female.  \n",
    "The R summary for the Cox model gives the hazard ratio (HR) for the second group relative to the first group, that is, female versus male. The beta coefficient for sex = $-0.53$ indicates that females have lower risk of death (lower survival rates) than males, in these data.  \n",
    "\n",
    "$\\textbf{The}$ $\\textbf{Hazard}$ $\\textbf{ratios}$: The exponentiated coefficients $exp(coef) = exp(-0.53) = 0.59$, also known as hazard ratios.  \n",
    "The hazard ratio compares two treatments. If the hazard ratio is $2.0$, then the rate of deaths in one treatment group is twice the rate in the other group.   \n",
    "So in our dataset, being female (sex=$2$) reduces the hazard by a factor of $0.59$, or $41$%. Being female is associated with good prognostic.  \n",
    "\n",
    "$\\textbf{Confidence}$ $\\textbf{intervals}$ $\\textbf{of}$ $\\textbf{the}$ $\\textbf{hazard}$ $\\textbf{ratios}$: The labels lower $0.95$ and upper $0.95$ give us the $95$% confidence interval of the hazard ratio. In this case, the hazard ratio $\\in [0.4237;0.816]$ with a confidence of $95$%.\n",
    "\n",
    "$\\textbf{Global}$ $\\textbf{statistical}$ $\\textbf{significance}$ $\\textbf{of}$ $\\textbf{the}$ $\\textbf{model}$:  \n",
    "The three tests we mentioned earlier (the likelihood ratio test, the Wald test and the score test) give us the significance of the model: These tests evaluate the null hypothesis that all of the betas ($\\beta$) are $0$.  \n",
    "These three methods are asymptotically equivalent. For large enough N, they will give similar results. \n",
    "Since the p-value of these test is lower than $0.05$ ($p-value=0.001$) we reject the null hypothesis, the covariate sex is significant."
   ]
  },
  {
   "cell_type": "markdown",
   "metadata": {},
   "source": [
    "## 3-Multivariate Cox regression analysis:"
   ]
  },
  {
   "cell_type": "markdown",
   "metadata": {},
   "source": [
    "Now we will do the same analysis as before but with three covariates: the age, the sex and ph.ecog (ECOG scale runs from 0 to 5, with 0 denoting perfect health and 5 death)"
   ]
  },
  {
   "cell_type": "code",
   "execution_count": 47,
   "metadata": {},
   "outputs": [
    {
     "data": {
      "text/plain": [
       "Call:\n",
       "coxph(formula = Surv(time, status) ~ age + sex + ph.ecog, data = lung)\n",
       "\n",
       "  n= 227, number of events= 164 \n",
       "   (1 observation deleted due to missingness)\n",
       "\n",
       "             coef exp(coef)  se(coef)      z Pr(>|z|)    \n",
       "age      0.011067  1.011128  0.009267  1.194 0.232416    \n",
       "sex     -0.552612  0.575445  0.167739 -3.294 0.000986 ***\n",
       "ph.ecog  0.463728  1.589991  0.113577  4.083 4.45e-05 ***\n",
       "---\n",
       "Signif. codes:  0 '***' 0.001 '**' 0.01 '*' 0.05 '.' 0.1 ' ' 1\n",
       "\n",
       "        exp(coef) exp(-coef) lower .95 upper .95\n",
       "age        1.0111     0.9890    0.9929    1.0297\n",
       "sex        0.5754     1.7378    0.4142    0.7994\n",
       "ph.ecog    1.5900     0.6289    1.2727    1.9864\n",
       "\n",
       "Concordance= 0.637  (se = 0.026 )\n",
       "Rsquare= 0.126   (max possible= 0.999 )\n",
       "Likelihood ratio test= 30.5  on 3 df,   p=1e-06\n",
       "Wald test            = 29.93  on 3 df,   p=1e-06\n",
       "Score (logrank) test = 30.5  on 3 df,   p=1e-06\n"
      ]
     },
     "metadata": {},
     "output_type": "display_data"
    }
   ],
   "source": [
    "res.cox <- coxph(Surv(time, status) ~ age + sex + ph.ecog, data =  lung)\n",
    "summary(res.cox)"
   ]
  },
  {
   "cell_type": "markdown",
   "metadata": {},
   "source": [
    "The p-value for all three overall tests (likelihood, Wald, and score) are highly significant ($p-value=1 \\times 10^{-6}$), indicating that the model is significant.   \n",
    "\n",
    "**Sex**: The p-value for this covariate is equal to $0.000986$, as indicated by the significante code this covariates is highly significante. The hazard ratio is almost equal to $0.58$, that means that being a female reduce the hazard by $1-0.58=42)$%.  \n",
    "\n",
    "**Ph.ecgo**: The p-value for this covariate is equal to $4.45 \\times 10^{-5}$ and its hazard ratio is equal to $1.59$, thus there is a strong relationship between the ph.ecog value and increased risk of death.  \n",
    "\n",
    "**Age**: The p-value of this covariate is greater than $0.05$ ($p-value=0.23$) and the hazard ratio is equal to $exp(coef) = 1.01$, with a $95$% confidence interval of $0.99$ to $1.03$. The confidence interval for HR includes $1$, it indicates that age is not a significante covariate."
   ]
  },
  {
   "cell_type": "markdown",
   "metadata": {},
   "source": [
    "## 4- Visualizing the estimated distribution of survival times: \n",
    "\n",
    "We can visualize the estimated distribution of survival times thanks to the function survfit() that estimates the survival proportion, by default at the mean values of covariates."
   ]
  },
  {
   "cell_type": "code",
   "execution_count": 57,
   "metadata": {},
   "outputs": [
    {
     "data": {
      "image/png": "[encoded data removed]",
      "text/plain": [
       "plot without title"
      ]
     },
     "metadata": {},
     "output_type": "display_data"
    }
   ],
   "source": [
    "# Plot the baseline survival function\n",
    "res.cox <- coxph(Surv(time, status) ~ age + sex + ph.ecog, data =  lung)\n",
    "ggsurvplot(survfit(res.cox), data=lung)"
   ]
  },
  {
   "cell_type": "markdown",
   "metadata": {},
   "source": [
    "After 500 days of observation, the survival probability dropped to $30$%"
   ]
  },
  {
   "cell_type": "markdown",
   "metadata": {},
   "source": [
    "Now we want to see the impact of sex on the probability of survival. We separate the data into two categories, male and female, the other covariates are fixed to their average values (if they are continuous variables) or to their lowest level (if they are discrete variables). "
   ]
  },
  {
   "cell_type": "code",
   "execution_count": 54,
   "metadata": {
    "collapsed": true
   },
   "outputs": [],
   "source": [
    "sex_df <- with(lung,\n",
    "               data.frame(sex = c(1, 2), \n",
    "                          age = rep(mean(age, na.rm = TRUE), 2),\n",
    "                          ph.ecog = c(1, 1)\n",
    "                          )\n",
    "               )"
   ]
  },
  {
   "cell_type": "code",
   "execution_count": 56,
   "metadata": {},
   "outputs": [
    {
     "data": {
      "image/png": "[encoded data removed]",
      "text/plain": [
       "plot without title"
      ]
     },
     "metadata": {},
     "output_type": "display_data"
    }
   ],
   "source": [
    "fit <- survfit(res.cox, newdata = sex_df)\n",
    "ggsurvplot(fit,data=sex_df, conf.int = TRUE, legend.labs=c(\"Sex=1\", \"Sex=2\"),\n",
    "           ggtheme = theme_minimal())"
   ]
  },
  {
   "cell_type": "markdown",
   "metadata": {},
   "source": [
    "As we have seen in previous analyzes, the probability of survival is higher for women (blue curve)."
   ]
  },
  {
   "cell_type": "markdown",
   "metadata": {},
   "source": [
    "# VI- The parametrics distributions:"
   ]
  },
  {
   "cell_type": "markdown",
   "metadata": {},
   "source": [
    "## 1- The Exponential distribution."
   ]
  },
  {
   "cell_type": "markdown",
   "metadata": {},
   "source": [
    "The exponential distribution depends only on a parameter $\\theta$ and is the only one that admits a constant instant risk\n",
    "The exponential distribution is \"memoryless\". This property is mathematically translated by:\n",
    "$$\\forall s,t \\geq 0  , \\mathbb{P}(T>s+t)=\\mathbb{P}(T>s)$$\n",
    "In other words, the fact that a subject has not declared the event for a time t does not change the probability that he declares it from time t.\n",
    "Thus, the exponential distribution is an efficient model for the duration of an electronic component.  \n",
    "For example, the probability that a component still works 3 years, knowing that it has already worked a year is simply equal to the probability that it runs two years: there is no usury during the first year.  \n",
    "The functions associated with this distribution are:  \n",
    "$$f(t|\\theta)=\\theta e^{-\\theta t}$$\n",
    "$$\\lambda(t|\\theta)=\\theta$$\n",
    "$$S(t|\\theta)=e^{-\\theta t}$$\n"
   ]
  },
  {
   "cell_type": "markdown",
   "metadata": {},
   "source": [
    "## 2- The Weibull distribution:"
   ]
  },
  {
   "cell_type": "markdown",
   "metadata": {},
   "source": [
    "With the exponential survival function, the probability of failure is the same in all time intervals, but when a model with a constant risk rate is not appropriate, other distributions must be used. \n",
    "For instance the risk rate can increases with time, which is the case of certain diseases (breast cancer).\n",
    "The distribution of Weibull is then more adapted, its survival function is defined by:\n",
    "$$$$\n",
    "$$S(t|\\theta, \\nu)=\\exp^{- \\left(\\dfrac{t}{\\theta} \\right)^{\\nu}}$$\n",
    "$$\\lambda(t|\\theta,\\nu)=\\nu \\left( \\dfrac{1}{\\theta} \\right)^{\\nu}t^{\\nu-1}$$\n",
    "$$S(t|\\theta,\\nu)=\\exp \\left(- \\left( \\dfrac{t}{\\theta} \\right)^{\\nu} \\right)$$\n",
    "The Weibull distribution can modelise a serial system (The system fails when one of its component fails)."
   ]
  },
  {
   "cell_type": "markdown",
   "metadata": {},
   "source": [
    "## 3-The Gamma distribution:\n",
    "The gamma distribution is used to modelise waiting time in queuing theory or it can also be used in medicine (the age distribution of cancer).  \n",
    "$$f(t|\\nu,\\theta)=\\dfrac{\\theta^{\\nu}}{\\Gamma(\\nu)}t^{\\nu-1}e^{-t\\theta}$$\n",
    "$$F(t|\\nu,\\theta)=\\dfrac{1}{\\Gamma(\\nu)}\\displaystyle \\int_{0}^{\\theta t} u^{\\nu-1} e^{-u}, \\mathrm{d}u$$\n",
    "$$\\lambda(t|\\nu,\\theta)=\\dfrac{f(t|\\theta,\\nu)}{1-F(t|\\theta,\\nu)}$$"
   ]
  },
  {
   "cell_type": "markdown",
   "metadata": {},
   "source": [
    "## 4-Other parametrics distributions:"
   ]
  },
  {
   "cell_type": "markdown",
   "metadata": {},
   "source": [
    "The following distributions: Normal , log-normal and log-logistic are other survival functions.  \n",
    "-The log-normal distribution is used to is used to model a large number of small independent factors.  \n",
    "-The log-logistic distribution is used when the risk rate increases and then decreases as cancer mortality before and after treatment.  "
   ]
  }
 ],
 "metadata": {
  "kernelspec": {
   "display_name": "R",
   "language": "R",
   "name": "ir"
  },
  "language_info": {
   "codemirror_mode": "r",
   "file_extension": ".r",
   "mimetype": "text/x-r-source",
   "name": "R",
   "pygments_lexer": "r",
   "version": "3.5.1"
  }
 },
 "nbformat": 4,
 "nbformat_minor": 2
}
